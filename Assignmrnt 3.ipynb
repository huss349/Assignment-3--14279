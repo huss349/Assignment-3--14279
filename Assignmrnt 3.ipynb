{
 "cells": [
  {
   "cell_type": "code",
   "execution_count": 1,
   "id": "e8e3f6db-d441-4196-81af-13839c1923ea",
   "metadata": {},
   "outputs": [
    {
     "name": "stdin",
     "output_type": "stream",
     "text": [
      "Enter your age:  20\n",
      "Enter your credit score:  700\n",
      "Enter your annual income:  25000\n"
     ]
    },
    {
     "name": "stdout",
     "output_type": "stream",
     "text": [
      "You are eligible for the loan.\n"
     ]
    }
   ],
   "source": [
    "# TASK NO 01:\n",
    "age = int(input(\"Enter your age: \"))\n",
    "credit_score = int(input(\"Enter your credit score: \"))\n",
    "income = int(input(\"Enter your annual income: \"))\n",
    "\n",
    "if age >= 18:\n",
    "    if credit_score >= 700 and income >= 25000:\n",
    "        print(\"You are eligible for the loan.\")\n",
    "    elif credit_score >= 650 and income >= 30000:\n",
    "        print(\"You are eligible for the loan.\")\n",
    "    else:\n",
    "        print(\"You are not eligible for the loan.\")\n",
    "else:\n",
    "    print(\"You are not eligible for the loan.\")\n"
   ]
  },
  {
   "cell_type": "code",
   "execution_count": 3,
   "id": "43fac74c-4447-411a-beaf-6409aa3c866a",
   "metadata": {},
   "outputs": [
    {
     "name": "stdin",
     "output_type": "stream",
     "text": [
      "Enter your age:  22\n",
      "Enter your years of experience:  5\n"
     ]
    },
    {
     "name": "stdout",
     "output_type": "stream",
     "text": [
      "You have moderate experience.\n"
     ]
    }
   ],
   "source": [
    "# TASK NO 02:\n",
    "age = int(input(\"Enter your age: \"))\n",
    "\n",
    "if age >= 18:\n",
    "    experience = int(input(\"Enter your years of experience: \"))\n",
    "    if experience > 10:\n",
    "        print(\"You have a lot of experience.\")\n",
    "    elif 5 <= experience <= 9:\n",
    "        print(\"You have moderate experience.\")\n",
    "    elif 2 <= experience <= 4:\n",
    "        print(\"You are relatively new.\")\n",
    "    else:\n",
    "        print(\"You are just starting out.\")\n",
    "else:\n",
    "    print(\"You are underage.\")\n"
   ]
  },
  {
   "cell_type": "code",
   "execution_count": 5,
   "id": "a5defbba-7d67-47e4-806b-a4e718e22de3",
   "metadata": {},
   "outputs": [
    {
     "name": "stdout",
     "output_type": "stream",
     "text": [
      "Memory addresses:\n",
      "a: 140734134168280, b: 140734134168280, c: 2115189000688, d: 2115168350016\n",
      "Memory sizes: [28, 28, 24, 46]\n",
      "Data type with least memory: <class 'float'>\n"
     ]
    }
   ],
   "source": [
    "# TASK NO 03: \n",
    "a = 10\n",
    "b = 10\n",
    "c = 20.5\n",
    "d = \"hello\"\n",
    "\n",
    "print(\"Memory addresses:\")\n",
    "print(f\"a: {id(a)}, b: {id(b)}, c: {id(c)}, d: {id(d)}\")\n",
    "\n",
    "memory_sizes = [a.__sizeof__(), b.__sizeof__(), c.__sizeof__(), d.__sizeof__()]\n",
    "print(\"Memory sizes:\", memory_sizes)\n",
    "\n",
    "data_types = [type(a), type(b), type(c), type(d)]\n",
    "least_memory = min(memory_sizes)\n",
    "least_memory_type = data_types[memory_sizes.index(least_memory)]\n",
    "print(\"Data type with least memory:\", least_memory_type)\n"
   ]
  },
  {
   "cell_type": "code",
   "execution_count": 7,
   "id": "750624fb-e36c-4a54-92f2-fe3f0b463ef6",
   "metadata": {},
   "outputs": [
    {
     "name": "stdin",
     "output_type": "stream",
     "text": [
      "Enter your email address:  h123@gmail.com\n"
     ]
    },
    {
     "name": "stdout",
     "output_type": "stream",
     "text": [
      "Email format is valid.\n"
     ]
    }
   ],
   "source": [
    "# TASK NO 04:\n",
    "email = input(\"Enter your email address: \").lower()\n",
    "\n",
    "if \"@\" in email and \".\" in email:\n",
    "    print(\"Email format is valid.\")\n",
    "else:\n",
    "    print(\"Invalid email format.\")\n"
   ]
  },
  {
   "cell_type": "code",
   "execution_count": 11,
   "id": "56e8a41f-3733-4a65-8d3b-20b3b9dbfae5",
   "metadata": {},
   "outputs": [
    {
     "name": "stdout",
     "output_type": "stream",
     "text": [
      "Data types of tuple elements: [<class 'int'>, <class 'float'>, <class 'str'>, <class 'list'>, <class 'tuple'>]\n"
     ]
    }
   ],
   "source": [
    "# TASK NO 05:\n",
    "x = (11, 22.333, 'Mango', [1, 2, 3], ('a', 'b'))\n",
    "data_types = [type(item) for item in x]\n",
    "print(\"Data types of tuple elements:\", data_types)\n"
   ]
  },
  {
   "cell_type": "code",
   "execution_count": 15,
   "id": "0b0072f7-d248-4437-aea8-3d8767ffa183",
   "metadata": {},
   "outputs": [
    {
     "name": "stdin",
     "output_type": "stream",
     "text": [
      "Enter your username:  Hussain\n"
     ]
    },
    {
     "name": "stdout",
     "output_type": "stream",
     "text": [
      "Username exists.\n",
      "User is the admin.\n"
     ]
    }
   ],
   "source": [
    "# TASK NO 06:\n",
    "users = [(\"Hussain\", \"admin\"), (\"Saad\", \"user\"), (\"Ahmed\", \"moderator\")]\n",
    "username = input(\"Enter your username: \")\n",
    "\n",
    "if any(username == user[0] for user in users):\n",
    "    print(\"Username exists.\")\n",
    "    if any(username == user[0] and user[1] == \"admin\" for user in users):\n",
    "        print(\"User is the admin.\")\n",
    "else:\n",
    "    print(\"Username does not exist.\")\n"
   ]
  },
  {
   "cell_type": "code",
   "execution_count": 17,
   "id": "2813c95a-09ca-472a-851b-22cf6d797d37",
   "metadata": {},
   "outputs": [
    {
     "name": "stdout",
     "output_type": "stream",
     "text": [
      "Relation: Cousins\n"
     ]
    }
   ],
   "source": [
    "# TASK NO 07:\n",
    "person1 = ['Ali', 'Fatima', 'Karachi', '123']\n",
    "person2 = ['Ali', 'Fatima', 'Karachi', '123']\n",
    "person3 = ['Ahmed', 'Ayesha', 'Lahore', '456']\n",
    "\n",
    "if person1 is person2:\n",
    "    print(\"Relation: Siblings\")\n",
    "elif person1[3] != person3[3]:\n",
    "    print(\"Relation: Cousins\")\n"
   ]
  },
  {
   "cell_type": "code",
   "execution_count": 25,
   "id": "d4cbc149-a913-4590-9c13-b8ca1b1f1f09",
   "metadata": {},
   "outputs": [
    {
     "name": "stdin",
     "output_type": "stream",
     "text": [
      "Enter book title:  Diwan-e-ghalib\n",
      "Enter book author:  Mirza ghalib \n",
      "Enter year of publication:  1865\n",
      "Enter book price:  500\n"
     ]
    },
    {
     "name": "stdout",
     "output_type": "stream",
     "text": [
      "Book details: ('Diwan-e-ghalib', 'Mirza ghalib ', '1865', '500')\n"
     ]
    }
   ],
   "source": [
    "# TASK NO 08\n",
    "title = input(\"Enter book title: \")\n",
    "author = input(\"Enter book author: \")\n",
    "year = input(\"Enter year of publication: \")\n",
    "price = input(\"Enter book price: \")\n",
    "\n",
    "book = (title, author, year, price)\n",
    "print(\"Book details:\", book)\n"
   ]
  },
  {
   "cell_type": "code",
   "execution_count": 19,
   "id": "cf7c70f8-6d08-409d-af70-ff01de9a55da",
   "metadata": {},
   "outputs": [
    {
     "name": "stdin",
     "output_type": "stream",
     "text": [
      "Enter a subject:  Math\n"
     ]
    },
    {
     "name": "stdout",
     "output_type": "stream",
     "text": [
      "Subject is available.\n"
     ]
    }
   ],
   "source": [
    "# TASK NO 09:\n",
    "subjects = [\"Math\", \"Science\", \"English\", \"History\"]\n",
    "chosen_subject = input(\"Enter a subject: \")\n",
    "\n",
    "if chosen_subject in subjects:\n",
    "    print(\"Subject is available.\")\n",
    "else:\n",
    "    print(\"Subject is not available.\")\n",
    "\n"
   ]
  },
  {
   "cell_type": "code",
   "execution_count": 21,
   "id": "3ef6469b-451d-4716-873f-27587bf77947",
   "metadata": {},
   "outputs": [
    {
     "name": "stdin",
     "output_type": "stream",
     "text": [
      "Enter a number to find its index:  5\n"
     ]
    },
    {
     "name": "stdout",
     "output_type": "stream",
     "text": [
      "Index of 5: 4\n"
     ]
    },
    {
     "name": "stdin",
     "output_type": "stream",
     "text": [
      "Enter another number to count occurrences:  2\n"
     ]
    },
    {
     "name": "stdout",
     "output_type": "stream",
     "text": [
      "2 appears 2 times.\n"
     ]
    }
   ],
   "source": [
    "# TASK NO 10:\n",
    "numbers = (1, 2, 3, 4, 5, 3, 2, 1)\n",
    "\n",
    "num1 = int(input(\"Enter a number to find its index: \"))\n",
    "if num1 in numbers:\n",
    "    print(f\"Index of {num1}:\", numbers.index(num1))\n",
    "else:\n",
    "    print(f\"{num1} not found in tuple.\")\n",
    "\n",
    "num2 = int(input(\"Enter another number to count occurrences: \"))\n",
    "print(f\"{num2} appears {numbers.count(num2)} times.\")\n"
   ]
  },
  {
   "cell_type": "code",
   "execution_count": 27,
   "id": "aceca866-c3d0-4879-bc1e-3f6567d3245a",
   "metadata": {},
   "outputs": [
    {
     "name": "stdin",
     "output_type": "stream",
     "text": [
      "Enter the current temperature in Celsius:  -10\n"
     ]
    },
    {
     "name": "stdout",
     "output_type": "stream",
     "text": [
      "The weather is freezing!\n"
     ]
    }
   ],
   "source": [
    "# TASK NO 11\n",
    "# Ask the user to enter the current temperature in Celsius\n",
    "temperature = float(input(\"Enter the current temperature in Celsius: \"))\n",
    "\n",
    "# Define the predefined values\n",
    "freezing_temp = -5\n",
    "normal_temp = 25\n",
    "hot_temp = 40\n",
    "\n",
    "# Check the temperature category\n",
    "if temperature <= freezing_temp:\n",
    "    print(\"The weather is freezing!\")\n",
    "elif temperature >= hot_temp:\n",
    "    print(\"The weather is hot!\")\n",
    "else:\n",
    "    print(\"The weather is normal.\")\n"
   ]
  }
 ],
 "metadata": {
  "kernelspec": {
   "display_name": "Python 3 (ipykernel)",
   "language": "python",
   "name": "python3"
  },
  "language_info": {
   "codemirror_mode": {
    "name": "ipython",
    "version": 3
   },
   "file_extension": ".py",
   "mimetype": "text/x-python",
   "name": "python",
   "nbconvert_exporter": "python",
   "pygments_lexer": "ipython3",
   "version": "3.12.7"
  }
 },
 "nbformat": 4,
 "nbformat_minor": 5
}
